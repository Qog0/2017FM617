{
 "cells": [
  {
   "cell_type": "code",
   "execution_count": 4,
   "metadata": {
    "collapsed": true
   },
   "outputs": [],
   "source": [
    "import shutil\n",
    "import requests\n",
    "from bs4 import BeautifulSoup"
   ]
  },
  {
   "cell_type": "code",
   "execution_count": 5,
   "metadata": {
    "collapsed": true
   },
   "outputs": [],
   "source": [
    "url = \"http://tw.xingbar.com/\"\n",
    "r = requests.get(url)"
   ]
  },
  {
   "cell_type": "code",
   "execution_count": 6,
   "metadata": {
    "collapsed": true
   },
   "outputs": [],
   "source": [
    "soup = BeautifulSoup(r.text,\"lxml\")"
   ]
  },
  {
   "cell_type": "code",
   "execution_count": 7,
   "metadata": {
    "collapsed": true
   },
   "outputs": [],
   "source": [
    "tag_name ='div.index_talk-astro a' "
   ]
  },
  {
   "cell_type": "code",
   "execution_count": 8,
   "metadata": {
    "collapsed": true
   },
   "outputs": [],
   "source": [
    "articles =soup.select(tag_name) "
   ]
  },
  {
   "cell_type": "code",
   "execution_count": 9,
   "metadata": {},
   "outputs": [
    {
     "name": "stdout",
     "output_type": "stream",
     "text": [
      "http://astro.tw.xingbar.com/templets/xingbar/images/fans_nav/fans_nav1-over.gif fans_nav1-over.gif\n",
      "http://astro.tw.xingbar.com/templets/xingbar/images/fans_nav/fans_nav2-over.gif fans_nav2-over.gif\n",
      "http://astro.tw.xingbar.com/templets/xingbar/images/fans_nav/fans_nav3-over.gif fans_nav3-over.gif\n",
      "http://astro.tw.xingbar.com/templets/xingbar/images/fans_nav/fans_nav4-over.gif fans_nav4-over.gif\n",
      "http://astro.tw.xingbar.com/templets/xingbar/images/fans_nav/fans_nav5-over.gif fans_nav5-over.gif\n",
      "http://astro.tw.xingbar.com/templets/xingbar/images/fans_nav/fans_nav6-over.gif fans_nav6-over.gif\n",
      "http://astro.tw.xingbar.com/templets/xingbar/images/fans_nav/fans_nav7-over.gif fans_nav7-over.gif\n",
      "http://astro.tw.xingbar.com/templets/xingbar/images/fans_nav/fans_nav8-over.gif fans_nav8-over.gif\n",
      "http://astro.tw.xingbar.com/templets/xingbar/images/fans_nav/fans_nav9-over.gif fans_nav9-over.gif\n",
      "http://astro.tw.xingbar.com/templets/xingbar/images/fans_nav/fans_nav10-over.gif fans_nav10-over.gif\n",
      "http://astro.tw.xingbar.com/templets/xingbar/images/fans_nav/fans_nav11-over.gif fans_nav11-over.gif\n",
      "http://astro.tw.xingbar.com/templets/xingbar/images/fans_nav/fans_nav12-over.gif fans_nav12-over.gif\n",
      "http://astro.tw.xingbar.com/templets/xingbar/images/fans_nav/fans_nav1-on.gif fans_nav1-on.gif\n",
      "http://astro.tw.xingbar.com/templets/xingbar/images/fans_nav/fans_nav2-on.gif fans_nav2-on.gif\n",
      "http://astro.tw.xingbar.com/templets/xingbar/images/fans_nav/fans_nav3-on.gif fans_nav3-on.gif\n",
      "http://astro.tw.xingbar.com/templets/xingbar/images/fans_nav/fans_nav4-on.gif fans_nav4-on.gif\n",
      "http://astro.tw.xingbar.com/templets/xingbar/images/fans_nav/fans_nav5-on.gif fans_nav5-on.gif\n",
      "http://astro.tw.xingbar.com/templets/xingbar/images/fans_nav/fans_nav6-on.gif fans_nav6-on.gif\n",
      "http://astro.tw.xingbar.com/templets/xingbar/images/fans_nav/fans_nav7-on.gif fans_nav7-on.gif\n",
      "http://astro.tw.xingbar.com/templets/xingbar/images/fans_nav/fans_nav8-on.gif fans_nav8-on.gif\n",
      "http://astro.tw.xingbar.com/templets/xingbar/images/fans_nav/fans_nav9-on.gif fans_nav9-on.gif\n",
      "http://astro.tw.xingbar.com/templets/xingbar/images/fans_nav/fans_nav10-on.gif fans_nav10-on.gif\n",
      "http://astro.tw.xingbar.com/templets/xingbar/images/fans_nav/fans_nav11-on.gif fans_nav11-on.gif\n",
      "http://astro.tw.xingbar.com/templets/xingbar/images/fans_nav/fans_nav12-on.gif fans_nav12-on.gif\n"
     ]
    }
   ],
   "source": [
    "for art in (articles):\n",
    "    print(art.img['src'],art.img['src'].split('/')[-1])"
   ]
  },
  {
   "cell_type": "code",
   "execution_count": 10,
   "metadata": {},
   "outputs": [
    {
     "name": "stdout",
     "output_type": "stream",
     "text": [
      "fans_nav1-over.gif\n",
      "fans_nav2-over.gif\n",
      "fans_nav3-over.gif\n",
      "fans_nav4-over.gif\n",
      "fans_nav5-over.gif\n",
      "fans_nav6-over.gif\n",
      "fans_nav7-over.gif\n",
      "fans_nav8-over.gif\n",
      "fans_nav9-over.gif\n",
      "fans_nav10-over.gif\n",
      "fans_nav11-over.gif\n",
      "fans_nav12-over.gif\n",
      "fans_nav1-on.gif\n",
      "fans_nav2-on.gif\n",
      "fans_nav3-on.gif\n",
      "fans_nav4-on.gif\n",
      "fans_nav5-on.gif\n",
      "fans_nav6-on.gif\n",
      "fans_nav7-on.gif\n",
      "fans_nav8-on.gif\n",
      "fans_nav9-on.gif\n",
      "fans_nav10-on.gif\n",
      "fans_nav11-on.gif\n",
      "fans_nav12-on.gif\n"
     ]
    }
   ],
   "source": [
    "for art in (articles):\n",
    "    name =(art.img['src'].split('/')[-1])\n",
    "    print(name)\n",
    "    res2 = requests.get(art.img['src'], stream = True)\n",
    "    f = open(name, 'wb')\n",
    "    shutil.copyfileobj(res2.raw, f)\n",
    "    f.close()\n",
    "    del res2"
   ]
  },
  {
   "cell_type": "code",
   "execution_count": 11,
   "metadata": {
    "collapsed": true
   },
   "outputs": [],
   "source": [
    "from PIL import Image"
   ]
  },
  {
   "cell_type": "code",
   "execution_count": 12,
   "metadata": {
    "collapsed": true
   },
   "outputs": [],
   "source": [
    "import matplotlib.pyplot as plt"
   ]
  },
  {
   "cell_type": "code",
   "execution_count": 13,
   "metadata": {
    "collapsed": true
   },
   "outputs": [],
   "source": [
    "牡羊座 = Image.open('fans_nav1-over.gif')"
   ]
  },
  {
   "cell_type": "code",
   "execution_count": 14,
   "metadata": {},
   "outputs": [
    {
     "data": {
      "image/png": "[encoded data removed]",
      "text/plain": [
       "<PIL.GifImagePlugin.GifImageFile image mode=P size=60x60 at 0x19439061EF0>"
      ]
     },
     "execution_count": 14,
     "metadata": {},
     "output_type": "execute_result"
    }
   ],
   "source": [
    "牡羊座"
   ]
  },
  {
   "cell_type": "code",
   "execution_count": 15,
   "metadata": {
    "collapsed": true
   },
   "outputs": [],
   "source": [
    "金牛座 = Image.open('fans_nav2-over.gif')"
   ]
  },
  {
   "cell_type": "code",
   "execution_count": 16,
   "metadata": {},
   "outputs": [
    {
     "data": {
      "image/png": "[encoded data removed]",
      "text/plain": [
       "<PIL.GifImagePlugin.GifImageFile image mode=P size=60x60 at 0x1943910F7F0>"
      ]
     },
     "execution_count": 16,
     "metadata": {},
     "output_type": "execute_result"
    }
   ],
   "source": [
    "金牛座"
   ]
  },
  {
   "cell_type": "code",
   "execution_count": 17,
   "metadata": {
    "collapsed": true
   },
   "outputs": [],
   "source": [
    "雙子座 = Image.open('fans_nav3-over.gif')"
   ]
  },
  {
   "cell_type": "code",
   "execution_count": 18,
   "metadata": {},
   "outputs": [
    {
     "data": {
      "image/png": "[encoded data removed]",
      "text/plain": [
       "<PIL.GifImagePlugin.GifImageFile image mode=P size=60x60 at 0x1943910F5F8>"
      ]
     },
     "execution_count": 18,
     "metadata": {},
     "output_type": "execute_result"
    }
   ],
   "source": [
    "雙子座"
   ]
  },
  {
   "cell_type": "code",
   "execution_count": 19,
   "metadata": {
    "collapsed": true
   },
   "outputs": [],
   "source": [
    "巨蠍座 = Image.open('fans_nav4-over.gif')"
   ]
  },
  {
   "cell_type": "code",
   "execution_count": 20,
   "metadata": {},
   "outputs": [
    {
     "data": {
      "image/png": "[encoded data removed]",
      "text/plain": [
       "<PIL.GifImagePlugin.GifImageFile image mode=P size=60x60 at 0x1943910FBA8>"
      ]
     },
     "execution_count": 20,
     "metadata": {},
     "output_type": "execute_result"
    }
   ],
   "source": [
    "巨蠍座"
   ]
  },
  {
   "cell_type": "code",
   "execution_count": 21,
   "metadata": {
    "collapsed": true
   },
   "outputs": [],
   "source": [
    "獅子座 = Image.open('fans_nav5-over.gif')"
   ]
  },
  {
   "cell_type": "code",
   "execution_count": 22,
   "metadata": {},
   "outputs": [
    {
     "data": {
      "image/png": "[encoded data removed]",
      "text/plain": [
       "<PIL.GifImagePlugin.GifImageFile image mode=P size=60x60 at 0x1943910FD68>"
      ]
     },
     "execution_count": 22,
     "metadata": {},
     "output_type": "execute_result"
    }
   ],
   "source": [
    "獅子座"
   ]
  },
  {
   "cell_type": "code",
   "execution_count": 23,
   "metadata": {
    "collapsed": true
   },
   "outputs": [],
   "source": [
    "處女座 = Image.open('fans_nav6-over.gif')"
   ]
  },
  {
   "cell_type": "code",
   "execution_count": 24,
   "metadata": {},
   "outputs": [
    {
     "data": {
      "image/png": "[encoded data removed]",
      "text/plain": [
       "<PIL.GifImagePlugin.GifImageFile image mode=P size=60x60 at 0x1943910FEB8>"
      ]
     },
     "execution_count": 24,
     "metadata": {},
     "output_type": "execute_result"
    }
   ],
   "source": [
    "處女座"
   ]
  },
  {
   "cell_type": "code",
   "execution_count": 25,
   "metadata": {
    "collapsed": true
   },
   "outputs": [],
   "source": [
    "天秤座 = Image.open('fans_nav7-over.gif')"
   ]
  },
  {
   "cell_type": "code",
   "execution_count": 26,
   "metadata": {},
   "outputs": [
    {
     "data": {
      "image/png": "[encoded data removed]",
      "text/plain": [
       "<PIL.GifImagePlugin.GifImageFile image mode=P size=60x60 at 0x1943910FE80>"
      ]
     },
     "execution_count": 26,
     "metadata": {},
     "output_type": "execute_result"
    }
   ],
   "source": [
    "天秤座"
   ]
  },
  {
   "cell_type": "code",
   "execution_count": 27,
   "metadata": {
    "collapsed": true
   },
   "outputs": [],
   "source": [
    "天蠍座 = Image.open('fans_nav8-over.gif')"
   ]
  },
  {
   "cell_type": "code",
   "execution_count": 28,
   "metadata": {},
   "outputs": [
    {
     "data": {
      "image/png": "[encoded data removed]",
      "text/plain": [
       "<PIL.GifImagePlugin.GifImageFile image mode=P size=60x60 at 0x19439126198>"
      ]
     },
     "execution_count": 28,
     "metadata": {},
     "output_type": "execute_result"
    }
   ],
   "source": [
    "天蠍座"
   ]
  },
  {
   "cell_type": "code",
   "execution_count": 29,
   "metadata": {
    "collapsed": true
   },
   "outputs": [],
   "source": [
    "射手座 = Image.open('fans_nav9-over.gif')"
   ]
  },
  {
   "cell_type": "code",
   "execution_count": 30,
   "metadata": {},
   "outputs": [
    {
     "data": {
      "image/png": "[encoded data removed]",
      "text/plain": [
       "<PIL.GifImagePlugin.GifImageFile image mode=P size=60x60 at 0x194391262E8>"
      ]
     },
     "execution_count": 30,
     "metadata": {},
     "output_type": "execute_result"
    }
   ],
   "source": [
    "射手座"
   ]
  },
  {
   "cell_type": "code",
   "execution_count": 31,
   "metadata": {
    "collapsed": true
   },
   "outputs": [],
   "source": [
    "魔羯座 = Image.open('fans_nav10-over.gif')"
   ]
  },
  {
   "cell_type": "code",
   "execution_count": 32,
   "metadata": {},
   "outputs": [
    {
     "data": {
      "image/png": "[encoded data removed]",
      "text/plain": [
       "<PIL.GifImagePlugin.GifImageFile image mode=P size=60x60 at 0x19439126438>"
      ]
     },
     "execution_count": 32,
     "metadata": {},
     "output_type": "execute_result"
    }
   ],
   "source": [
    "魔羯座"
   ]
  },
  {
   "cell_type": "code",
   "execution_count": 33,
   "metadata": {
    "collapsed": true
   },
   "outputs": [],
   "source": [
    "水瓶座 = Image.open('fans_nav11-over.gif')"
   ]
  },
  {
   "cell_type": "code",
   "execution_count": 34,
   "metadata": {},
   "outputs": [
    {
     "data": {
      "image/png": "[encoded data removed]",
      "text/plain": [
       "<PIL.GifImagePlugin.GifImageFile image mode=P size=60x60 at 0x19439126400>"
      ]
     },
     "execution_count": 34,
     "metadata": {},
     "output_type": "execute_result"
    }
   ],
   "source": [
    "水瓶座"
   ]
  },
  {
   "cell_type": "code",
   "execution_count": 35,
   "metadata": {
    "collapsed": true
   },
   "outputs": [],
   "source": [
    "雙魚座 = Image.open('fans_nav12-over.gif')"
   ]
  },
  {
   "cell_type": "code",
   "execution_count": 36,
   "metadata": {},
   "outputs": [
    {
     "data": {
      "image/png": "[encoded data removed]",
      "text/plain": [
       "<PIL.GifImagePlugin.GifImageFile image mode=P size=60x60 at 0x194391266D8>"
      ]
     },
     "execution_count": 36,
     "metadata": {},
     "output_type": "execute_result"
    }
   ],
   "source": [
    "雙魚座"
   ]
  },
  {
   "cell_type": "code",
   "execution_count": 41,
   "metadata": {},
   "outputs": [
    {
     "name": "stdout",
     "output_type": "stream",
     "text": [
      "請輸入月份5\n",
      "請輸入日期6\n"
     ]
    }
   ],
   "source": [
    "月 = int(input(\"請輸入月份\"))\n",
    "日 = int(input(\"請輸入日期\"))"
   ]
  },
  {
   "cell_type": "code",
   "execution_count": 42,
   "metadata": {},
   "outputs": [
    {
     "data": {
      "image/png": "[encoded data removed]",
      "text/plain": [
       "<PIL.GifImagePlugin.GifImageFile image mode=P size=60x60 at 0x1943910F7F0>"
      ]
     },
     "execution_count": 42,
     "metadata": {},
     "output_type": "execute_result"
    }
   ],
   "source": [
    "def get_constellation(month, date):\n",
    "    dates = (21, 20, 21, 21, 22, 22, 23, 24, 24, 24, 23, 22)\n",
    "    constellations = (\"摩羯座\", \"水瓶座\", \"雙魚座\", \"牡羊座\", \"金牛座\", \"雙子座\", \"巨蟹座\", \"獅子座\", \"處女座\", \"天秤座\", \"天蠍座\", \"射手座\", \"魔羯座\")\n",
    "    \n",
    "    if date < dates[month-1]:\n",
    "        return constellations[month-1]\n",
    "    else:\n",
    "        return constellations[month]\n",
    "\n",
    "locals() [(get_constellation(月,日))]"
   ]
  },
  {
   "cell_type": "code",
   "execution_count": 51,
   "metadata": {
    "collapsed": true
   },
   "outputs": [],
   "source": [
    "while True:\n",
    "    if ((get_constellation(月,日))) == \"牡羊座\":\n",
    "        img=Image.open('fans_nav1-over.gif')\n",
    "        img.show()\n",
    "        break\n",
    "    elif ((get_constellation(月,日))) == \"金牛座\":\n",
    "        img=Image.open('fans_nav2-over.gif')\n",
    "        img.show()\n",
    "        break\n",
    "    elif ((get_constellation(月,日))) == \"雙子座\":\n",
    "        img=Image.open('fans_nav3-over.gif')\n",
    "        img.show()\n",
    "        break\n",
    "    elif ((get_constellation(月,日))) == \"巨蟹座\":\n",
    "        img=Image.open('fans_nav4-over.gif')\n",
    "        img.show()\n",
    "        break\n",
    "    elif ((get_constellation(月,日))) == \"獅子座\":\n",
    "        img=Image.open('fans_nav5-over.gif')\n",
    "        img.show()\n",
    "        break\n",
    "    elif ((get_constellation(月,日))) == \"處女座\":\n",
    "        img=Image.open('fans_nav6-over.gif')\n",
    "        img.show()\n",
    "        break\n",
    "    elif ((get_constellation(月,日))) == \"天秤座\":\n",
    "        img=Image.open('fans_nav7-over.gif')\n",
    "        img.show()\n",
    "        break\n",
    "    elif ((get_constellation(月,日))) == \"天蠍座\":\n",
    "        img=Image.open('fans_na8-over.gif')\n",
    "        img.show()\n",
    "        break\n",
    "    elif ((get_constellation(月,日))) == \"射手座\":\n",
    "        img=Image.open('fans_na9-over.gif')\n",
    "        img.show()\n",
    "        break\n",
    "    elif ((get_constellation(月,日))) == \"魔羯座\":\n",
    "        img=Image.open('fans_na10-over.gif')\n",
    "        img.show()\n",
    "        break\n",
    "    elif ((get_constellation(月,日))) == \"水瓶座\":\n",
    "        img=Image.open('fans_na11-over.gif')\n",
    "        img.show()\n",
    "        break\n",
    "    elif ((get_constellation(月,日))) == \"雙魚座\":\n",
    "        img=Image.open('fans_na12-over.gif')\n",
    "        img.show()\n",
    "        break"
   ]
  },
  {
   "cell_type": "code",
   "execution_count": 84,
   "metadata": {},
   "outputs": [
    {
     "name": "stdout",
     "output_type": "stream",
     "text": [
      "<PIL.GifImagePlugin.GifImageFile image mode=P size=60x60 at 0x1609E914C88>\n"
     ]
    }
   ],
   "source": [
    "    n =  ((get_constellation(月,日)))\n",
    "    if n == 金牛座:\n",
    "        金牛座 = Image.open('fans_nav1-over.gif')\n",
    "    print (金牛座)"
   ]
  },
  {
   "cell_type": "code",
   "execution_count": 83,
   "metadata": {},
   "outputs": [
    {
     "name": "stdout",
     "output_type": "stream",
     "text": [
      "星座特質查詢，請輸入你的星座[如天秤座]，輸入q可退出。天蠍座\n",
      "【天蠍座的性格特質】\n",
      "1.有魅力。個性張揚或內斂都對旁人很有吸引力。\n",
      "2.記仇。別輕易得罪蠍子，他可能一輩子都記得。\n",
      "3.生氣抓狂的蠍子不可怕，沉默的蠍子才最可怕。\n",
      "4.神秘。總希望別人瞭解自己內心。\n",
      "5.直覺敏銳。不要在蠍子面前玩花招。\n",
      "6.執著且敢愛敢恨。不斷付出卻又容易走向悲憤。\n",
      "7.被動。因碰不到心動得讓他願意主動出擊的獵物。\n",
      "8.對失去興趣的人理性冷酷。對待愛人卻感情用事。\n",
      "9.佔有慾強烈。喜歡獨佔討厭和人分享。\n",
      "\n",
      "星座特質查詢，請輸入你的星座[如天秤座]，輸入q可退出。雙魚座\n",
      "【雙魚座的性格特質】\n",
      "1.喜歡吃，頂級吃貨。\n",
      "2.霸道，有很強佔有欲。\n",
      "3.懶，超級怕麻煩。\n",
      "4.愛捉弄人，事後還經常自鳴得意。\n",
      "5.超自戀，沒事就愛臭美。\n",
      "6.容易害羞，遇到喜歡的人反而會疏遠。\n",
      "7.外冷內熱，對陌生人視而不見。\n",
      "8.固執，不善於變通。\n",
      "9.過於溫柔，經常把愛人慣壞。\n",
      "\n",
      "星座特質查詢，請輸入你的星座[如天秤座]，輸入q可退出。q\n"
     ]
    }
   ],
   "source": [
    "#星座基本性格特質查詢\n",
    "while True:\n",
    "    number = input(\"星座特質查詢，請輸入你的星座[如天秤座]，輸入q可退出。\")\n",
    "    if number == \"牡羊座\":\n",
    "        print(\"【牡羊座的性格特質】\")\n",
    "        print(\"1.倔強。遇到討厭的人，寧可受罪也不向對方求助。\")\n",
    "        print(\"2.率真坦白，討厭被欺騙。\")\n",
    "        print(\"3.冷漠。對惹火他和糾纏不休的人表現得異常明顯。\")\n",
    "        print(\"4.不圓滑不世故不記仇。遇事常猶豫，難以選擇。\")\n",
    "        print(\"5.對繁瑣的事情沒耐心，容易放棄。\")\n",
    "        print(\"6.心地善良，樂於助人。即使不喜歡的也盡力完成。\")\n",
    "        print(\"7.心軟。即使受傷，一旦對方道歉便忍不住說沒關係。\")\n",
    "        print(\"8.陌生人面前很安靜很慢熱，熟了很鬧騰。\")\n",
    "        print(\"9.有點小脾氣但很隱忍。不輕易表露自己性情和內心。\")\n",
    "        print(\"\")\n",
    "    elif number == \"金牛座\":\n",
    "        print(\"【金牛座的性格特質】\")\n",
    "        print(\"1.吃軟不吃硬，經常口是心非。\")\n",
    "        print(\"2.樂觀又悲觀。安全感不多，有點感性。\")\n",
    "        print(\"3.朋友求助常有求必應，所以易被騙。\")\n",
    "        print(\"4.害怕受傷。對陌生人冷冷的，熟悉後就嘻嘻哈哈。\")\n",
    "        print(\"5.故作堅強，其實很軟弱。被人誤解卻不願解釋。多愁善感，總為小事糾結。\")\n",
    "        print(\"6.自尊心暴強有點不自信。討厭和人打交道，常年宅在家。\")\n",
    "        print(\"7.超懶，最愛睡覺和發呆。擅長裝傻。\")\n",
    "        print(\"8.喜歡錢但不在乎。討厭幹沒有意義的事。\")\n",
    "        print(\"9.喜歡故意讓人抓狂。最怕被冷落和不在乎。\")\n",
    "        print(\"\")\n",
    "    elif number == \"雙子座\":\n",
    "        print(\"【雙子座的性格特質】\")\n",
    "        print(\"1.善忘。不論重不重要的事都容易忘記。不記仇。\")\n",
    "        print(\"2.偏執悲觀、追求完美，有輕微強迫症和潔癖。\")\n",
    "        print(\"3.熱愛暗戀，有點悶騷。\")\n",
    "        print(\"4.容易被感動。心思細膩，不願與人計較。\")\n",
    "        print(\"5.黑白分明。喜歡被肯定和信任。討厭耍心機。\")\n",
    "        print(\"6.玩心重。熱愛自由，討厭被束縛壓迫。喜歡挑戰。\")\n",
    "        print(\"7.雙重人格，性格較極端。有輕微自閉。\")\n",
    "        print(\"8.渴望被理解，卻不奢求理解。對別有用心之人一眼就能看穿，並視若無睹。\")\n",
    "        print(\"9.非常注重第一印象。幾乎一見定生死。\")\n",
    "        print(\"\")\n",
    "    elif number == \"巨蟹座\":       \n",
    "        print(\"【巨蟹座的性格特質】\")\n",
    "        print(\"1.喜歡裝堅強.裝冷酷。讓人捉摸不透。\")\n",
    "        print(\"2.隱藏悲傷。卻希望別人安慰它、給它安全感。\")\n",
    "        print(\"3.愛幻想。有人懂它愛它能給它所想要的。\")\n",
    "        print(\"4.浪漫體貼。細心關愛自己愛的人。\")\n",
    "        print(\"5.外表孩子氣，內心卻很成熟。\")\n",
    "        print(\"6.害怕被忽略，對人關心也不表露出來。\")\n",
    "        print(\"7.內心藏著無數秘密，只和最親密的人分享。\")\n",
    "        print(\"8.慢熱。陌生人面前十分文靜。遇見開心的事會說個不停，不開心會躲起來哭。\")\n",
    "        print(\"9.情緒化。愛撒嬌，超級黏人。喜歡賴床。\")\n",
    "        print(\"\")\n",
    "    elif number == \"獅子座\":\n",
    "        print(\"【獅子座的性格特質】\")\n",
    "        print(\"1.霸道且控制慾強。其實是沒安全感。喜歡佔主導地位，被讚美。\")\n",
    "        print(\"2.愛整潔。即使是獅子男也十分愛整潔。\")\n",
    "        print(\"3.喜歡胡思亂想。性格較極端。\")\n",
    "        print(\"4.喜歡裸睡。\")\n",
    "        print(\"5.淚腺發達，易被感動。喜歡跟愛人人身體接觸，恨不得把身體揉進去那種。\")\n",
    "        print(\"6.有些悲觀。有較強的依賴感。\")\n",
    "        print(\"7.偏執，苛求完美。具有雙重性格，很抗拒有人走近。\")\n",
    "        print(\"8.經常表現出不在乎，無所謂的態度。其實內心彆扭的很。\")\n",
    "        print(\"9.常表現強勢，其實內心十分脆弱孤獨。\")\n",
    "        print(\"\")\n",
    "    elif number == \"處女座\":\n",
    "        print(\"【處女座的性格特質】\")\n",
    "        print(\"1.敏感多疑。喜歡胡思亂想，愛鑽牛角尖。\")\n",
    "        print(\"2.冷靜。即使內心起伏再大也十分理智冷靜。\")\n",
    "        print(\"3.害怕失去。總表現得不冷不熱讓人難以靠近。\")\n",
    "        print(\"4.死要面子愛逞強。即使傷心也表現得十分強勢。\")\n",
    "        print(\"5.缺乏耐心有點小自私。討厭等人自己又愛遲到。\")\n",
    "        print(\"6.傻傻愛著他、幫他做很多事，即使對方不愛自己。\")\n",
    "        print(\"7.追求完美。任何事情都希望做到最好。\")\n",
    "        print(\"8.愛較真。關鍵時刻敷衍了事，在他身上起不到任何作用。\")\n",
    "        print(\"9.內心溫和善良，會一直堅守在朋友愛人身邊。\")\n",
    "        print(\"\")\n",
    "    elif number == \"天秤座\":\n",
    "        print(\"【天秤座的性格特質】\")\n",
    "        print(\"1.替他人著想。常試圖改變自己迎合對方。\")\n",
    "        print(\"2.外表親切熱情，內心追求安逸的環境。\")\n",
    "        print(\"3.對最親愛的人容易暴走脾氣，對外人和善常被說人好。\")\n",
    "        print(\"4.愛睡覺。對多數人和事不上心，不在意周圍太自我。忽冷忽熱。\")\n",
    "        print(\"5.超懶散。對任何事都抱隨遇而安的態度。\")\n",
    "        print(\"6.膽小害怕失敗，卻總表現出強悍的一面。\")\n",
    "        print(\"7.珍惜友誼。成為他死黨要很久經歷很多事。\")\n",
    "        print(\"8.很忍耐。什麼事都放在心裡自己承受。\")\n",
    "        print(\"9.不愛爭搶。認為屬於自己的是不需爭搶的。\")\n",
    "        print(\"\")\n",
    "    elif number == \"天蠍座\":\n",
    "        print(\"【天蠍座的性格特質】\")\n",
    "        print(\"1.有魅力。個性張揚或內斂都對旁人很有吸引力。\")\n",
    "        print(\"2.記仇。別輕易得罪蠍子，他可能一輩子都記得。\")\n",
    "        print(\"3.生氣抓狂的蠍子不可怕，沉默的蠍子才最可怕。\")\n",
    "        print(\"4.神秘。總希望別人瞭解自己內心。\")\n",
    "        print(\"5.直覺敏銳。不要在蠍子面前玩花招。\")\n",
    "        print(\"6.執著且敢愛敢恨。不斷付出卻又容易走向悲憤。\")\n",
    "        print(\"7.被動。因碰不到心動得讓他願意主動出擊的獵物。\")\n",
    "        print(\"8.對失去興趣的人理性冷酷。對待愛人卻感情用事。\")\n",
    "        print(\"9.佔有慾強烈。喜歡獨佔討厭和人分享。\")\n",
    "        print(\"\")\n",
    "    elif number == \"射手座\":\n",
    "        print(\"【射手座的性格特質】\")\n",
    "        print(\"1.強迫症，神經質。每晚睡覺前都覺得窗沒關，門沒鎖。\")\n",
    "        print(\"2.專一。喜歡一個人時喜歡的要死，眼裡容不下一粒沙子。\")\n",
    "        print(\"3.小孤僻，小高傲。看不慣的東西超多。\")\n",
    "        print(\"4.戀舊。一首喜歡的歌可以聽N年。\")\n",
    "        print(\"5.害怕孤獨。人前總是嘻嘻哈哈。\")\n",
    "        print(\"6.對愛人很偏執在乎，有神經質傾向。不輕易放手。\")\n",
    "        print(\"7.霸道。跟人吵架表現強勢。事後放下架子來哄人。\")\n",
    "        print(\"8.愛裝堅強，讓人疼惜。\")\n",
    "        print(\"9.自我感覺良好，其實有點冒失讓人無語。\")\n",
    "        print(\"\")\n",
    "    elif number == \"魔羯座\":\n",
    "        print(\"【魔羯座的性格特質】\")\n",
    "        print(\"1.吃軟不吃硬。\")\n",
    "        print(\"2.經常口是心非。\")\n",
    "        print(\"3.很樂觀又很悲觀。\")\n",
    "        print(\"4.安全感不多，有點感性。有些話即使害怕錯過也不說。\")\n",
    "        print(\"5.常常被人騙。有點小心軟、小敏感、小潔癖。\")\n",
    "        print(\"6.害怕受傷。總說自己不孤單，其實很寂寞。\")\n",
    "        print(\"7.在陌生人面前很冷淡，熟人面前很鬧騰。\")\n",
    "        print(\"8.總表現的很堅強，其實很軟弱。\")\n",
    "        print(\"9.總被人誤解，卻不願解釋。\")\n",
    "        print(\"\")\n",
    "    elif number == \"水瓶座\":\n",
    "        print(\"【水瓶座的性格特質】\")\n",
    "        print(\"1.喜歡簡單，不喜歡麻煩和累的感覺。\")\n",
    "        print(\"2.健忘不記仇。只要沒碰他底線，一切都是過眼雲煙。\")\n",
    "        print(\"3.有鬥志愛拚搏，刻苦努力。\")\n",
    "        print(\"4.別人對他好定加倍奉還的代表。\")\n",
    "        print(\"5.天生的統籌規劃專家，計劃性強。\")\n",
    "        print(\"6.固執。明知是錯也要往前走。撞了南牆就把牆拆了繼續走。\")\n",
    "        print(\"7.討厭做決定。就算是顏色不同也會讓他們苦惱半天。\")\n",
    "        print(\"8.愛笑，一點小事就笑逐顏開，什麼都寫​​在臉上。\")\n",
    "        print(\"9.愛憎分明，不給自己不喜歡的人絲毫機會，對自己喜歡的人超級縱容。\")\n",
    "        print(\"\")\n",
    "    elif number == \"雙魚座\":\n",
    "        print(\"【雙魚座的性格特質】\")\n",
    "        print(\"1.喜歡吃，頂級吃貨。\")\n",
    "        print(\"2.霸道，有很強佔有欲。\")\n",
    "        print(\"3.懶，超級怕麻煩。\")\n",
    "        print(\"4.愛捉弄人，事後還經常自鳴得意。\")\n",
    "        print(\"5.超自戀，沒事就愛臭美。\")\n",
    "        print(\"6.容易害羞，遇到喜歡的人反而會疏遠。\")\n",
    "        print(\"7.外冷內熱，對陌生人視而不見。\")\n",
    "        print(\"8.固執，不善於變通。\")\n",
    "        print(\"9.過於溫柔，經常把愛人慣壞。\")\n",
    "        print(\"\")\n",
    "    elif number == \"q\":\n",
    "        break\n",
    "    else:\n",
    "        print(\"確認你有無輸入錯誤?!\")"
   ]
  },
  {
   "cell_type": "code",
   "execution_count": null,
   "metadata": {
    "collapsed": true
   },
   "outputs": [],
   "source": []
  }
 ],
 "metadata": {
  "kernelspec": {
   "display_name": "Python 3",
   "language": "python",
   "name": "python3"
  },
  "language_info": {
   "codemirror_mode": {
    "name": "ipython",
    "version": 3
   },
   "file_extension": ".py",
   "mimetype": "text/x-python",
   "name": "python",
   "nbconvert_exporter": "python",
   "pygments_lexer": "ipython3",
   "version": "3.6.3"
  }
 },
 "nbformat": 4,
 "nbformat_minor": 2
}
