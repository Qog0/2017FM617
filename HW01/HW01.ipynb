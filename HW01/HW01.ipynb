{
 "cells": [
  {
   "cell_type": "markdown",
   "metadata": {},
   "source": [
    "# HW01\n",
    "\n",
    "## 這個作業主要的目的是希望同學們了解善用模組跟套件可以很容易取得問題的快速解。"
   ]
  },
  {
   "cell_type": "markdown",
   "metadata": {},
   "source": [
    "## Q1. 請使用 python 讀入 Nasdaq 公司資訊！\n",
    "\n",
    "提示：\n",
    "1. 請先找到 Nasdaq Company List 的 .csv 檔的網址。\n",
    "2. 使用 pandas 套件的 read_csv 函式來讀入 .csv 檔。"
   ]
  },
  {
   "cell_type": "code",
   "execution_count": 156,
   "metadata": {
    "collapsed": true
   },
   "outputs": [],
   "source": [
    "import pandas as ps"
   ]
  },
  {
   "cell_type": "code",
   "execution_count": 157,
   "metadata": {
    "collapsed": true
   },
   "outputs": [],
   "source": [
    "url = \"http://www.nasdaq.com/screening/companies-by-industry.aspx?exchange=NASDAQ&render=download\"\n",
    "data = pd.read_csv(url)"
   ]
  },
  {
   "cell_type": "code",
   "execution_count": 158,
   "metadata": {},
   "outputs": [
    {
     "data": {
      "text/html": [
       "<div>\n",
       "<style>\n",
       "    .dataframe thead tr:only-child th {\n",
       "        text-align: right;\n",
       "    }\n",
       "\n",
       "    .dataframe thead th {\n",
       "        text-align: left;\n",
       "    }\n",
       "\n",
       "    .dataframe tbody tr th {\n",
       "        vertical-align: top;\n",
       "    }\n",
       "</style>\n",
       "<table border=\"1\" class=\"dataframe\">\n",
       "  <thead>\n",
       "    <tr style=\"text-align: right;\">\n",
       "      <th></th>\n",
       "      <th>Symbol</th>\n",
       "      <th>Name</th>\n",
       "      <th>LastSale</th>\n",
       "      <th>MarketCap</th>\n",
       "      <th>ADR TSO</th>\n",
       "      <th>IPOyear</th>\n",
       "      <th>Sector</th>\n",
       "      <th>Industry</th>\n",
       "      <th>Summary Quote</th>\n",
       "      <th>Unnamed: 9</th>\n",
       "    </tr>\n",
       "  </thead>\n",
       "  <tbody>\n",
       "    <tr>\n",
       "      <th>0</th>\n",
       "      <td>PIH</td>\n",
       "      <td>1347 Property Insurance Holdings, Inc.</td>\n",
       "      <td>7</td>\n",
       "      <td>4.169736e+07</td>\n",
       "      <td>n/a</td>\n",
       "      <td>2014</td>\n",
       "      <td>Finance</td>\n",
       "      <td>Property-Casualty Insurers</td>\n",
       "      <td>http://www.nasdaq.com/symbol/pih</td>\n",
       "      <td>NaN</td>\n",
       "    </tr>\n",
       "    <tr>\n",
       "      <th>1</th>\n",
       "      <td>TURN</td>\n",
       "      <td>180 Degree Capital Corp.</td>\n",
       "      <td>2</td>\n",
       "      <td>6.224312e+07</td>\n",
       "      <td>n/a</td>\n",
       "      <td>n/a</td>\n",
       "      <td>Finance</td>\n",
       "      <td>Finance/Investors Services</td>\n",
       "      <td>http://www.nasdaq.com/symbol/turn</td>\n",
       "      <td>NaN</td>\n",
       "    </tr>\n",
       "    <tr>\n",
       "      <th>2</th>\n",
       "      <td>FLWS</td>\n",
       "      <td>1-800 FLOWERS.COM, Inc.</td>\n",
       "      <td>9.15</td>\n",
       "      <td>5.909546e+08</td>\n",
       "      <td>n/a</td>\n",
       "      <td>1999</td>\n",
       "      <td>Consumer Services</td>\n",
       "      <td>Other Specialty Stores</td>\n",
       "      <td>http://www.nasdaq.com/symbol/flws</td>\n",
       "      <td>NaN</td>\n",
       "    </tr>\n",
       "    <tr>\n",
       "      <th>3</th>\n",
       "      <td>FCCY</td>\n",
       "      <td>1st Constitution Bancorp (NJ)</td>\n",
       "      <td>17.25</td>\n",
       "      <td>1.391999e+08</td>\n",
       "      <td>n/a</td>\n",
       "      <td>n/a</td>\n",
       "      <td>Finance</td>\n",
       "      <td>Savings Institutions</td>\n",
       "      <td>http://www.nasdaq.com/symbol/fccy</td>\n",
       "      <td>NaN</td>\n",
       "    </tr>\n",
       "    <tr>\n",
       "      <th>4</th>\n",
       "      <td>SRCE</td>\n",
       "      <td>1st Source Corporation</td>\n",
       "      <td>49.17</td>\n",
       "      <td>1.275280e+09</td>\n",
       "      <td>n/a</td>\n",
       "      <td>n/a</td>\n",
       "      <td>Finance</td>\n",
       "      <td>Major Banks</td>\n",
       "      <td>http://www.nasdaq.com/symbol/srce</td>\n",
       "      <td>NaN</td>\n",
       "    </tr>\n",
       "  </tbody>\n",
       "</table>\n",
       "</div>"
      ],
      "text/plain": [
       "  Symbol                                    Name LastSale     MarketCap  \\\n",
       "0    PIH  1347 Property Insurance Holdings, Inc.        7  4.169736e+07   \n",
       "1   TURN                180 Degree Capital Corp.        2  6.224312e+07   \n",
       "2   FLWS                 1-800 FLOWERS.COM, Inc.     9.15  5.909546e+08   \n",
       "3   FCCY           1st Constitution Bancorp (NJ)    17.25  1.391999e+08   \n",
       "4   SRCE                  1st Source Corporation    49.17  1.275280e+09   \n",
       "\n",
       "  ADR TSO IPOyear             Sector                    Industry  \\\n",
       "0     n/a    2014            Finance  Property-Casualty Insurers   \n",
       "1     n/a     n/a            Finance  Finance/Investors Services   \n",
       "2     n/a    1999  Consumer Services      Other Specialty Stores   \n",
       "3     n/a     n/a            Finance        Savings Institutions   \n",
       "4     n/a     n/a            Finance                 Major Banks   \n",
       "\n",
       "                       Summary Quote  Unnamed: 9  \n",
       "0   http://www.nasdaq.com/symbol/pih         NaN  \n",
       "1  http://www.nasdaq.com/symbol/turn         NaN  \n",
       "2  http://www.nasdaq.com/symbol/flws         NaN  \n",
       "3  http://www.nasdaq.com/symbol/fccy         NaN  \n",
       "4  http://www.nasdaq.com/symbol/srce         NaN  "
      ]
     },
     "execution_count": 158,
     "metadata": {},
     "output_type": "execute_result"
    }
   ],
   "source": [
    "data.head()"
   ]
  },
  {
   "cell_type": "markdown",
   "metadata": {},
   "source": [
    "## Q2. 請使用 python 畫中山大學管理學院周邊地圖！\n",
    "\n",
    "提示：\n",
    "\n",
    "1. 使用 geocoder 套件來找出地址的 GPS 座標。\n",
    "2. 使用 folium 套件來顯示地圖。"
   ]
  },
  {
   "cell_type": "code",
   "execution_count": 159,
   "metadata": {
    "collapsed": true
   },
   "outputs": [],
   "source": [
    "import folium"
   ]
  },
  {
   "cell_type": "code",
   "execution_count": 160,
   "metadata": {},
   "outputs": [
    {
     "data": {
      "text/html": [
       "<div style=\"width:100%;\"><div style=\"position:relative;width:100%;height:0;padding-bottom:60%;\"><iframe src=\"data:text/html;charset=utf-8;base64,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\" style=\"position:absolute;width:100%;height:100%;left:0;top:0;border:none !important;\" allowfullscreen webkitallowfullscreen mozallowfullscreen></iframe></div></div>"
      ],
      "text/plain": [
       "<folium.folium.Map at 0x158e01e9be0>"
      ]
     },
     "execution_count": 160,
     "metadata": {},
     "output_type": "execute_result"
    }
   ],
   "source": [
    "nsysu = folium.Map(location=[22.627447,120.265274],zoom_start=16)\n",
    "nsysu.add_child(folium.Marker(location=[22.627447,120.265274],popup='management'))"
   ]
  },
  {
   "cell_type": "markdown",
   "metadata": {},
   "source": [
    "## Q3. 請使用 python 將新聞中可能的關鍵詞萃取出來！ (Bonus)\n",
    "\n",
    "提示：\n",
    "\n",
    "1. 使用老師提供的 util.py 來擷取鉅亨網上特定新聞的內容。\n",
    "2. 使用 jieba 套件來擷取關鍵詞。"
   ]
  },
  {
   "cell_type": "code",
   "execution_count": 161,
   "metadata": {
    "collapsed": true
   },
   "outputs": [],
   "source": [
    "import util"
   ]
  },
  {
   "cell_type": "code",
   "execution_count": 162,
   "metadata": {
    "collapsed": true
   },
   "outputs": [],
   "source": [
    "news_text = util.get_news_article('https://news.cnyes.com/news/id/3959531')"
   ]
  },
  {
   "cell_type": "code",
   "execution_count": 163,
   "metadata": {},
   "outputs": [
    {
     "data": {
      "text/plain": [
       "'川普總統勝選已滿一週年。一年來，美國股市表現風光，S&P 500 大漲逾 20%，為二戰以來，在各總統上\\n任第一年表現中，排名第三。Nasdaq 與道瓊過去一年則大漲約 30%。\\n儘管川普總統的各項法案在國會多難順利通過，但股市却仍持續走高。\\n全球股市方面，歐洲股市於早場交易中，漲跌互見。亞洲股市今日收盤亦錯綜。\\n梅伊的脆弱政府爭議眾多，包括她與以色列官員舉行未經授權的會議，英鎊下跌。\\n週二，美國股市錯綜。道瓊工業平均指數創新收盤高點。Nasdaq 下跌 0.3%，S&P 500 收盤接近持平。\\n美國今日沒有重要經濟數據公布，週五將公布消費者信心指數。\\n'"
      ]
     },
     "execution_count": 163,
     "metadata": {},
     "output_type": "execute_result"
    }
   ],
   "source": [
    "news_text "
   ]
  },
  {
   "cell_type": "code",
   "execution_count": 164,
   "metadata": {
    "collapsed": true
   },
   "outputs": [],
   "source": [
    "# -*- coding: utf-8 -*-"
   ]
  },
  {
   "cell_type": "code",
   "execution_count": 165,
   "metadata": {
    "collapsed": true
   },
   "outputs": [],
   "source": [
    "import jieba"
   ]
  },
  {
   "cell_type": "code",
   "execution_count": 166,
   "metadata": {},
   "outputs": [],
   "source": [
    "words = jieba.cut(news_text, cut_all=False)"
   ]
  },
  {
   "cell_type": "code",
   "execution_count": 167,
   "metadata": {},
   "outputs": [
    {
     "name": "stdout",
     "output_type": "stream",
     "text": [
      "  Full Mode: 川普/ 總統/ 勝選/ 已滿/ 一週/ 年/ 。/ 一年/ 來/ ，/ 美國/ 股市/ 表現/ 風光/ ，/ S/ &/ P/  / 500/  / 大漲/ 逾/  / 20%/ ，/ 為二戰/ 以來/ ，/ 在/ 各/ 總統/ 上/ \n",
      "/ 任/ 第一/ 年表/ 現中/ ，/ 排名/ 第三/ 。/ Nasdaq/  / 與/ 道/ 瓊過/ 去/ 一年/ 則大漲/ 約/  / 30%/ 。/ \n",
      "/ 儘/ 管/ 川/ 普/ 總/ 統/ 的/ 各/ 項/ 法案/ 在/ 國會/ 多難/ 順利/ 通過/ ，/ 但/ 股市/ 却/ 仍/ 持續/ 走高/ 。/ \n",
      "/ 全球股市/ 方面/ ，/ 歐洲/ 股市/ 於/ 早場/ 交易/ 中/ ，/ 漲跌/ 互見/ 。/ 亞洲/ 股市/ 今日/ 收盤/ 亦/ 錯/ 綜/ 。/ \n",
      "/ 梅伊/ 的/ 脆弱/ 政府/ 爭議/ 眾多/ ，/ 包括/ 她/ 與/ 以色列/ 官員/ 舉行/ 未經/ 授權/ 的/ 會議/ ，/ 英鎊/ 下跌/ 。/ \n",
      "/ 週二/ ，/ 美國/ 股市/ 錯綜/ 。/ 道瓊/ 工業/ 平均/ 指數/ 創新/ 收盤/ 高點/ 。/ Nasdaq/  / 下跌/  / 0.3%/ ，/ S/ &/ P/  / 500/  / 收盤/ 接近/ 持平/ 。/ \n",
      "/ 美國/ 今日/ 沒有/ 重要/ 經濟/ 數據/ 公布/ ，/ 週五將/ 公布/ 消費者/ 信心/ 指數/ 。/ \n",
      "\n"
     ]
    }
   ],
   "source": [
    "print(\"  Full Mode: \" + \"/ \".join(words))"
   ]
  },
  {
   "cell_type": "code",
   "execution_count": 168,
   "metadata": {
    "collapsed": true
   },
   "outputs": [],
   "source": [
    "words = jieba.cut(news_text, cut_all=True)"
   ]
  },
  {
   "cell_type": "code",
   "execution_count": 169,
   "metadata": {},
   "outputs": [
    {
     "name": "stdout",
     "output_type": "stream",
     "text": [
      "  Default Mode: 川/ 普/ 總/ 統/ 勝/ 選/ 已/ 滿/ 一/ 週/ 年/ / / 一年/ 來/ / / 美/ 國/ 股市/ 表/ 現/ 風/ 光/ / S/ P/ 500/ / 大/ 漲/ 逾/ / 20/ / / 為/ 二/ 戰/ 以/ 來/ / / 在/ 各/ 總/ 統/ 上/ \n",
      "/ 任/ 第一/ 第一年/ 一年/ 年表/ 現/ 中/ / / 排名/ 排名第/ 第三/ / Nasdaq/ / 與/ 道/ 瓊/ 過/ 去/ 一年/ 則/ 大/ 漲/ 約/ / 30/ / \n",
      "/ 儘/ 管/ 川/ 普/ 總/ 統/ 的/ 各/ 項/ 法案/ 在/ 國/ 會/ 多/ 難/ 順/ 利/ 通/ 過/ / / 但/ 股市/ 却/ 仍/ 持/ 續/ 走高/ / \n",
      "/ 全球/ 全球股市/ 股市/ 方面/ / / 歐/ 洲/ 股市/ 於/ 早/ 場/ 交易/ 中/ / / 漲/ 跌/ 互/ 見/ / / 亞/ 洲/ 股市/ 今日/ 收/ 盤/ 亦/ 錯/ 綜/ / \n",
      "/ 梅/ 伊/ 的/ 脆弱/ 政府/ 爭/ 議/ 眾/ 多/ / / 包括/ 她/ 與/ 以色列/ 官/ 員/ 舉/ 行/ 未/ 經/ 授/ 權/ 的/ 會/ 議/ / / 英/ 鎊/ 下跌/ / \n",
      "/ 週/ 二/ / / 美/ 國/ 股市/ 錯/ 綜/ / / 道/ 瓊/ 工/ 業/ 平均/ 指/ 數/ 創/ 新/ 收/ 盤/ 高/ 點/ / Nasdaq/ / 下跌/ / 0/ 3/ / S/ P/ 500/ / 收/ 盤/ 接近/ 持平/ / \n",
      "/ 美/ 國/ 今日/ 沒/ 有/ 重要/ 經/ 濟/ 數/ 據/ 公布/ / / 週/ 五/ 將/ 公布/ 消/ 費/ 者/ 信心/ 指/ 數/ / \n",
      "\n"
     ]
    }
   ],
   "source": [
    "print(\"  Default Mode: \" + \"/ \".join(words))"
   ]
  },
  {
   "cell_type": "code",
   "execution_count": 170,
   "metadata": {
    "collapsed": true
   },
   "outputs": [],
   "source": [
    "words = jieba.cut(news_text)"
   ]
  },
  {
   "cell_type": "code",
   "execution_count": 171,
   "metadata": {},
   "outputs": [
    {
     "name": "stdout",
     "output_type": "stream",
     "text": [
      "川 普 總 統 勝 選 已 滿 一 週 年 。 一 年 來 ， 美 國 股 市 表 現 風 光 ， S & P   5 0 0   大 漲 逾   2 0 % ， 為 二 戰 以 來 ， 在 各 總 統 上 \n",
      " 任 第 一 年 表 現 中 ， 排 名 第 三 。 N a s d a q   與 道 瓊 過 去 一 年 則 大 漲 約   3 0 % 。 \n",
      " 儘 管 川 普 總 統 的 各 項 法 案 在 國 會 多 難 順 利 通 過 ， 但 股 市 却 仍 持 續 走 高 。 \n",
      " 全 球 股 市 方 面 ， 歐 洲 股 市 於 早 場 交 易 中 ， 漲 跌 互 見 。 亞 洲 股 市 今 日 收 盤 亦 錯 綜 。 \n",
      " 梅 伊 的 脆 弱 政 府 爭 議 眾 多 ， 包 括 她 與 以 色 列 官 員 舉 行 未 經 授 權 的 會 議 ， 英 鎊 下 跌 。 \n",
      " 週 二 ， 美 國 股 市 錯 綜 。 道 瓊 工 業 平 均 指 數 創 新 收 盤 高 點 。 N a s d a q   下 跌   0 . 3 % ， S & P   5 0 0   收 盤 接 近 持 平 。 \n",
      " 美 國 今 日 沒 有 重 要 經 濟 數 據 公 布 ， 週 五 將 公 布 消 費 者 信 心 指 數 。 \n",
      "\n"
     ]
    }
   ],
   "source": [
    "print(\" \".join(news_text))"
   ]
  },
  {
   "cell_type": "code",
   "execution_count": 172,
   "metadata": {
    "collapsed": true
   },
   "outputs": [],
   "source": [
    "words = jieba.cut_for_search (news_text)"
   ]
  },
  {
   "cell_type": "code",
   "execution_count": 173,
   "metadata": {},
   "outputs": [
    {
     "name": "stdout",
     "output_type": "stream",
     "text": [
      "川 普 總 統 勝 選 已 滿 一 週 年 。 一 年 來 ， 美 國 股 市 表 現 風 光 ， S & P   5 0 0   大 漲 逾   2 0 % ， 為 二 戰 以 來 ， 在 各 總 統 上 \n",
      " 任 第 一 年 表 現 中 ， 排 名 第 三 。 N a s d a q   與 道 瓊 過 去 一 年 則 大 漲 約   3 0 % 。 \n",
      " 儘 管 川 普 總 統 的 各 項 法 案 在 國 會 多 難 順 利 通 過 ， 但 股 市 却 仍 持 續 走 高 。 \n",
      " 全 球 股 市 方 面 ， 歐 洲 股 市 於 早 場 交 易 中 ， 漲 跌 互 見 。 亞 洲 股 市 今 日 收 盤 亦 錯 綜 。 \n",
      " 梅 伊 的 脆 弱 政 府 爭 議 眾 多 ， 包 括 她 與 以 色 列 官 員 舉 行 未 經 授 權 的 會 議 ， 英 鎊 下 跌 。 \n",
      " 週 二 ， 美 國 股 市 錯 綜 。 道 瓊 工 業 平 均 指 數 創 新 收 盤 高 點 。 N a s d a q   下 跌   0 . 3 % ， S & P   5 0 0   收 盤 接 近 持 平 。 \n",
      " 美 國 今 日 沒 有 重 要 經 濟 數 據 公 布 ， 週 五 將 公 布 消 費 者 信 心 指 數 。 \n",
      "\n"
     ]
    }
   ],
   "source": [
    "print(\" \".join(news_text))"
   ]
  }
 ],
 "metadata": {
  "kernelspec": {
   "display_name": "Python 3",
   "language": "python",
   "name": "python3"
  },
  "language_info": {
   "codemirror_mode": {
    "name": "ipython",
    "version": 3
   },
   "file_extension": ".py",
   "mimetype": "text/x-python",
   "name": "python",
   "nbconvert_exporter": "python",
   "pygments_lexer": "ipython3",
   "version": "3.6.3"
  }
 },
 "nbformat": 4,
 "nbformat_minor": 2
}
