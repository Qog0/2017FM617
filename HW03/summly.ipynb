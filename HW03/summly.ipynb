{
 "cells": [
  {
   "cell_type": "markdown",
   "metadata": {},
   "source": [
    "# HW03-Summly "
   ]
  },
  {
   "cell_type": "code",
   "execution_count": 2,
   "metadata": {
    "collapsed": true
   },
   "outputs": [],
   "source": [
    "import requests\n",
    "from bs4 import BeautifulSoup "
   ]
  },
  {
   "cell_type": "code",
   "execution_count": 3,
   "metadata": {
    "collapsed": true
   },
   "outputs": [],
   "source": [
    "url = \"https://news.cnyes.com/news/id/3969591\""
   ]
  },
  {
   "cell_type": "code",
   "execution_count": 4,
   "metadata": {
    "collapsed": true
   },
   "outputs": [],
   "source": [
    "r = requests.get(url)\n",
    "r.encoding = \"UTF-8\"  "
   ]
  },
  {
   "cell_type": "code",
   "execution_count": 5,
   "metadata": {},
   "outputs": [
    {
     "name": "stdout",
     "output_type": "stream",
     "text": [
      "\n",
      "摘要：摩根大通認為，在這三個因素中，考慮到涉及的內容和曲折的立法過程，稅改將是最需要關注的。\n",
      "\n",
      "在年底假期季來臨之際，摩根大通每周報告迎來了新主筆 John Normand。\n",
      "他在自己的「首秀」中提醒投資者們，稅改、中國經濟以及原油減產是市場最需關注的美股年底三道檻。\n",
      "稅改計劃無疑是時間最緊迫的一個因素，也是摩根大通最為關注的內容。John Normand 在報告中寫道：「考慮到涉及的內容和曲折的立法過程，稅改似乎是最複雜的市場驅動因素。」\n",
      "對比一下歷史上的稅改通過時間，也許會有更直觀的感受。\n",
      "雷根時期，包括了降低稅率和簡化稅法的稅改計劃，從第一次眾議院投票到最後總統簽字，花了 10 個月的時間；\n",
      "而柯林頓 1997 年的稅改、以及小布什 2001 年和 2003 年的稅改，內容僅僅是減稅，都只花了 2 個月的時間。\n",
      "上周，國會眾議院剛剛批准了共和黨人的稅改議案，但是在參眾兩院稅改方案存在重大差異的情況下，更大的難關在於之後的參議院表決。\n",
      "華爾街見聞此前提到，兩個版本最重大的差異是參議院版本計劃將公司稅下降至 20% 推遲至 2019 年，而眾議院版本中這一措施將在明年生效。\n",
      "投資者已經用行動表明了自己的擔心。由於擔心稅改及經濟前景，道指上周五下跌約 100 點，道指和標普均在 8 月以來首次連跌兩周。\n",
      "理想的豐滿和現實的骨幹都體現在了稅改進程中。除了時間緊迫之外，Normand 對特朗普的稅改內容能否獲得通過也存疑。\n",
      "雖然川普想要一個涵蓋內容頗廣的稅改計劃，但是摩根大通預測，最終的結果很可能僅是「布什式」的減稅。稅改的前景撲朔迷離，摩根大通仍將 2018 年的經濟增速預期維持在 2.2%。\n",
      "不及是摩根大通，大部分調查也顯示，稅改帶來的樂觀情緒有限。Blue Chip 的調查顯示，自選舉以來，共識增長預期幾乎沒有提高：2017 年 1 月預測美國 2018 年經濟增速為 2.4%；將近一年過去了，現在的預測值僅僅提高到了 2.5%。\n",
      "此外，除了美國稅改，中國經濟以及 11 月召開的 OPEC 峰會也是十一月的關鍵詞。\n",
      "不過摩根大通的報告認為，這個兩個變量的影響沒有稅改那麼大：中國經濟的話題不算新鮮；俄羅斯雖然可能重新考慮延長原油減產協議，不過當前的減產協議要到明年 3 月底才到期，仍有時間。\n",
      "『新聞來源／華爾街見聞』\n",
      "\n"
     ]
    }
   ],
   "source": [
    "#載入BeautifulSoup 解析 html文檔並印出結果\n",
    "soup = BeautifulSoup(r.text,\"lxml\") \n",
    "news_text = soup.select(\"div[itemprop=articleBody]\")[0].text \n",
    "print(news_text)"
   ]
  },
  {
   "cell_type": "code",
   "execution_count": 27,
   "metadata": {},
   "outputs": [
    {
     "name": "stdout",
     "output_type": "stream",
     "text": [
      "摘要：摩根大通認為，在這三個因素中，考慮到涉及的內容和曲折的立法過程，稅改將是最需要關注的。\n"
     ]
    }
   ],
   "source": [
    "news_summary = soup.select('p')[0].text #透過文件中的標籤 p，查詢位於第0列的摘要並輸出結果\n",
    "print (news_summary)"
   ]
  },
  {
   "cell_type": "code",
   "execution_count": 7,
   "metadata": {
    "collapsed": true
   },
   "outputs": [],
   "source": [
    "import jieba"
   ]
  },
  {
   "cell_type": "code",
   "execution_count": 8,
   "metadata": {
    "collapsed": true
   },
   "outputs": [],
   "source": [
    "import jieba.analyse"
   ]
  },
  {
   "cell_type": "code",
   "execution_count": 9,
   "metadata": {},
   "outputs": [],
   "source": [
    "jieba.set_dictionary('dict.txt.big') #使用jieba的繁體詞庫切換功能，需將詞庫置於同目錄下才捉取得到"
   ]
  },
  {
   "cell_type": "code",
   "execution_count": 10,
   "metadata": {},
   "outputs": [
    {
     "name": "stderr",
     "output_type": "stream",
     "text": [
      "Building prefix dict from C:\\Users\\Lenovo\\project\\2017FM617\\HW03\\dict.txt.big ...\n",
      "Dumping model to file cache C:\\Users\\Lenovo\\AppData\\Local\\Temp\\jieba.u7d00f85d136d74127b70d4531f7da126.cache\n",
      "Loading model cost 8.809 seconds.\n",
      "Prefix dict has been built succesfully.\n"
     ]
    }
   ],
   "source": [
    "keywords = jieba.analyse.extract_tags(news_text, topK=10, withWeight=False) #依 TF-IDF出現機率由高至低擷取10個關鍵字"
   ]
  },
  {
   "cell_type": "code",
   "execution_count": 11,
   "metadata": {},
   "outputs": [
    {
     "data": {
      "text/plain": [
       "['稅改', '內容', '經濟', '時間', '大通', '摩根', '計劃', '關注', '報告', 'Normand']"
      ]
     },
     "execution_count": 11,
     "metadata": {},
     "output_type": "execute_result"
    }
   ],
   "source": [
    "keywords"
   ]
  },
  {
   "cell_type": "code",
   "execution_count": 12,
   "metadata": {},
   "outputs": [
    {
     "name": "stdout",
     "output_type": "stream",
     "text": [
      "[('稅改', 0.6831295715942857), ('內容', 0.22770985719809522), ('經濟', 0.22770985719809522), ('時間', 0.22770985719809522), ('大通', 0.17451789939844445), ('摩根', 0.15943209443599998), ('計劃', 0.1518065714653968), ('關注', 0.11385492859904761), ('報告', 0.11385492859904761), ('Normand', 0.11385492859904761)]\n"
     ]
    }
   ],
   "source": [
    "print (repr ((jieba.analyse.extract_tags(news_text, topK=10, withWeight=True)))) #將關鍵字轉換為字串"
   ]
  },
  {
   "cell_type": "code",
   "execution_count": 13,
   "metadata": {},
   "outputs": [
    {
     "name": "stdout",
     "output_type": "stream",
     "text": [
      "[('版本', 1.0), ('上周五', 0.8498522015327293), ('公司', 0.6852859193255689), ('措施', 0.6852788856980337), ('方案', 0.5756228592827631), ('認為', 0.575459494821151), ('降低', 0.575459494821151), ('連跌', 0.575459494821151), ('能否', 0.575459494821151), ('可能', 0.575459494821151)]\n"
     ]
    }
   ],
   "source": [
    "print (repr(jieba.analyse.textrank(news_text, topK=10, withWeight=True))) #依Textrank擷取10個關鍵字轉換為字串"
   ]
  },
  {
   "cell_type": "code",
   "execution_count": 14,
   "metadata": {
    "collapsed": true
   },
   "outputs": [],
   "source": [
    "def index_of_keyword(sentences, keyword):\n",
    "    for i, s in enumerate(sentences):\n",
    "        if keyword in s:\n",
    "              return i\n",
    "    return -1"
   ]
  },
  {
   "cell_type": "code",
   "execution_count": 15,
   "metadata": {},
   "outputs": [
    {
     "data": {
      "text/plain": [
       "20"
      ]
     },
     "execution_count": 15,
     "metadata": {},
     "output_type": "execute_result"
    }
   ],
   "source": [
    "sentences = news_text.replace(\"\\n\",\"\").split(u\"。\") \n",
    "len(sentences)"
   ]
  },
  {
   "cell_type": "code",
   "execution_count": 16,
   "metadata": {},
   "outputs": [
    {
     "name": "stdout",
     "output_type": "stream",
     "text": [
      "摘要：摩根大通認為，在這三個因素中，考慮到涉及的內容和曲折的立法過程，稅改將是最需要關注的。\n",
      "在年底假期季來臨之際，摩根大通每周報告迎來了新主筆 John Normand。\n",
      "他在自己的「首秀」中提醒投資者們，稅改、中國經濟以及原油減產是市場最需關注的美股年底三道檻。\n",
      "稅改計劃無疑是時間最緊迫的一個因素，也是摩根大通最為關注的內容。\n",
      "John Normand 在報告中寫道：「考慮到涉及的內容和曲折的立法過程，稅改似乎是最複雜的市場驅動因素。\n",
      "」對比一下歷史上的稅改通過時間，也許會有更直觀的感受。\n",
      "雷根時期，包括了降低稅率和簡化稅法的稅改計劃，從第一次眾議院投票到最後總統簽字，花了 10 個月的時間；而柯林頓 1997 年的稅改、以及小布什 2001 年和 2003 年的稅改，內容僅僅是減稅，都只花了 2 個月的時間。\n",
      "上周，國會眾議院剛剛批准了共和黨人的稅改議案，但是在參眾兩院稅改方案存在重大差異的情況下，更大的難關在於之後的參議院表決。\n",
      "華爾街見聞此前提到，兩個版本最重大的差異是參議院版本計劃將公司稅下降至 20% 推遲至 2019 年，而眾議院版本中這一措施將在明年生效。\n",
      "投資者已經用行動表明了自己的擔心。\n",
      "由於擔心稅改及經濟前景，道指上周五下跌約 100 點，道指和標普均在 8 月以來首次連跌兩周。\n",
      "理想的豐滿和現實的骨幹都體現在了稅改進程中。\n",
      "除了時間緊迫之外，Normand 對特朗普的稅改內容能否獲得通過也存疑。\n",
      "雖然川普想要一個涵蓋內容頗廣的稅改計劃，但是摩根大通預測，最終的結果很可能僅是「布什式」的減稅。\n",
      "稅改的前景撲朔迷離，摩根大通仍將 2018 年的經濟增速預期維持在 2.2%。\n",
      "不及是摩根大通，大部分調查也顯示，稅改帶來的樂觀情緒有限。\n",
      "Blue Chip 的調查顯示，自選舉以來，共識增長預期幾乎沒有提高：2017 年 1 月預測美國 2018 年經濟增速為 2.4%；將近一年過去了，現在的預測值僅僅提高到了 2.5%。\n",
      "此外，除了美國稅改，中國經濟以及 11 月召開的 OPEC 峰會也是十一月的關鍵詞。\n",
      "不過摩根大通的報告認為，這個兩個變量的影響沒有稅改那麼大：中國經濟的話題不算新鮮；俄羅斯雖然可能重新考慮延長原油減產協議，不過當前的減產協議要到明年 3 月底才到期，仍有時間。\n",
      "『新聞來源／華爾街見聞』。\n"
     ]
    }
   ],
   "source": [
    "for sentence in sentences:\n",
    "    print(sentence + u\"。\")"
   ]
  },
  {
   "cell_type": "code",
   "execution_count": 17,
   "metadata": {},
   "outputs": [
    {
     "data": {
      "text/plain": [
       "2"
      ]
     },
     "execution_count": 17,
     "metadata": {},
     "output_type": "execute_result"
    }
   ],
   "source": [
    "index_of_keyword(sentences,\"經濟\")"
   ]
  },
  {
   "cell_type": "code",
   "execution_count": 18,
   "metadata": {},
   "outputs": [
    {
     "name": "stdout",
     "output_type": "stream",
     "text": [
      "他在自己的「首秀」中提醒投資者們，稅改、中國經濟以及原油減產是市場最需關注的美股年底三道檻。\n"
     ]
    }
   ],
   "source": [
    "print(sentences[index_of_keyword(sentences,u\"經濟\")]+u\"。\")"
   ]
  },
  {
   "cell_type": "code",
   "execution_count": 29,
   "metadata": {},
   "outputs": [
    {
     "data": {
      "text/plain": [
       "31"
      ]
     },
     "execution_count": 29,
     "metadata": {},
     "output_type": "execute_result"
    }
   ],
   "source": [
    "len(sentences[3])"
   ]
  },
  {
   "cell_type": "code",
   "execution_count": 30,
   "metadata": {
    "collapsed": true
   },
   "outputs": [],
   "source": [
    "s_index = []\n",
    "for keyword in keywords[:3]:\n",
    "    s_index.append(index_of_keyword(sentences,keyword))\n",
    "\n",
    "s_set = set(s_index)\n",
    "s_index = list(s_set)"
   ]
  },
  {
   "cell_type": "code",
   "execution_count": 31,
   "metadata": {
    "collapsed": true
   },
   "outputs": [],
   "source": [
    "summary = \"\"\n",
    "for i in s_index:\n",
    "    summary += sentences[i]+u\"。\""
   ]
  },
  {
   "cell_type": "code",
   "execution_count": 32,
   "metadata": {},
   "outputs": [
    {
     "name": "stdout",
     "output_type": "stream",
     "text": [
      "摘要：摩根大通認為，在這三個因素中，考慮到涉及的內容和曲折的立法過程，稅改將是最需要關注的。他在自己的「首秀」中提醒投資者們，稅改、中國經濟以及原油減產是市場最需關注的美股年底三道檻。\n"
     ]
    }
   ],
   "source": [
    "print (summary)"
   ]
  },
  {
   "cell_type": "code",
   "execution_count": 33,
   "metadata": {},
   "outputs": [
    {
     "name": "stdout",
     "output_type": "stream",
     "text": [
      "摘要：摩根大通認為，在這三個因素中，考慮到涉及的內容和曲折的立法過程，稅改將是最需要關注的。\n"
     ]
    }
   ],
   "source": [
    "print (news_summary)"
   ]
  }
 ],
 "metadata": {
  "kernelspec": {
   "display_name": "Python 3",
   "language": "python",
   "name": "python3"
  },
  "language_info": {
   "codemirror_mode": {
    "name": "ipython",
    "version": 3
   },
   "file_extension": ".py",
   "mimetype": "text/x-python",
   "name": "python",
   "nbconvert_exporter": "python",
   "pygments_lexer": "ipython3",
   "version": "3.6.3"
  }
 },
 "nbformat": 4,
 "nbformat_minor": 2
}
