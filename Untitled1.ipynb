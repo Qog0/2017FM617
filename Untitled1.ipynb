{
 "cells": [
  {
   "cell_type": "code",
   "execution_count": 9,
   "metadata": {},
   "outputs": [
    {
     "ename": "SyntaxError",
     "evalue": "Missing parentheses in call to 'print'. Did you mean print(nt ' '*7, end=\" \")? (<ipython-input-9-36dcdbfca96a>, line 19)",
     "output_type": "error",
     "traceback": [
      "\u001b[1;36m  File \u001b[1;32m\"<ipython-input-9-36dcdbfca96a>\"\u001b[1;36m, line \u001b[1;32m19\u001b[0m\n\u001b[1;33m    print ' '*7,\u001b[0m\n\u001b[1;37m            ^\u001b[0m\n\u001b[1;31mSyntaxError\u001b[0m\u001b[1;31m:\u001b[0m Missing parentheses in call to 'print'. Did you mean print(nt ' '*7, end=\" \")?\n"
     ]
    }
   ],
   "source": [
    "def verify(string):\n",
    "\tkeys = CODE.keys()\n",
    "\tfor char in string:\n",
    "\t\tif char.upper() not in keys and char != ' ':\n",
    "\t\t\tsys.exit('Error the charcter ' + char + ' cannot be translated to Morse Code')\n",
    "\n",
    "def main():\n",
    "\t\n",
    "\t\n",
    "\tprint ('Welcome to Alphabet to Morse Code Translator v.01\\n')\n",
    "\t\n",
    "\tmsg = raw_input('Enter Message: ')\n",
    "\tverify(msg)\n",
    "\tprint\n",
    "\tpygame.init()\n",
    "\t\n",
    "\tfor char in msg:\n",
    "\t\tif char == ' ':\n",
    "\t\t\tprint ' '*7,\n",
    "\t\t\ttime.sleep(SEVEN_UNITS)\n",
    "\t\telse:\n",
    "\t\t\tprint CODE[char.upper()],\n",
    "\t\t\tpygame.mixer.music.load(PATH + char.upper() + '_morse_code.ogg')\n",
    "\t\t\tpygame.mixer.music.play()\n",
    "\t\t\ttime.sleep(THREE_UNITS)\n",
    "\t\t\t"
   ]
  },
  {
   "cell_type": "code",
   "execution_count": null,
   "metadata": {
    "collapsed": true
   },
   "outputs": [],
   "source": [
    "import pygame"
   ]
  },
  {
   "cell_type": "code",
   "execution_count": null,
   "metadata": {
    "collapsed": true
   },
   "outputs": [],
   "source": [
    "import time"
   ]
  },
  {
   "cell_type": "code",
   "execution_count": null,
   "metadata": {
    "collapsed": true
   },
   "outputs": [],
   "source": [
    "import sys"
   ]
  },
  {
   "cell_type": "code",
   "execution_count": null,
   "metadata": {
    "collapsed": true
   },
   "outputs": [],
   "source": [
    "CODE = {'A': '.-',     'B': '-...',   'C': '-.-.', \n",
    "        'D': '-..',    'E': '.',      'F': '..-.',\n",
    "        'G': '--.',    'H': '....',   'I': '..',\n",
    "        'J': '.---',   'K': '-.-',    'L': '.-..',\n",
    "        'M': '--',     'N': '-.',     'O': '---',\n",
    "        'P': '.--.',   'Q': '--.-',   'R': '.-.',\n",
    "     \t'S': '...',    'T': '-',      'U': '..-',\n",
    "        'V': '...-',   'W': '.--',    'X': '-..-',\n",
    "        'Y': '-.--',   'Z': '--..',\n",
    "        \n",
    "        '0': '-----',  '1': '.----',  '2': '..---',\n",
    "        '3': '...--',  '4': '....-',  '5': '.....',\n",
    "        '6': '-....',  '7': '--...',  '8': '---..',\n",
    "        '9': '----.' \n",
    "        }\n",
    "ONE_UNIT = 0.5\n",
    "THREE_UNITS = 3 * ONE_UNIT\n",
    "SEVEN_UNITS = 7 * ONE_UNIT\n",
    "PATH = 'morse_sound_files/'"
   ]
  }
 ],
 "metadata": {
  "kernelspec": {
   "display_name": "Python 3",
   "language": "python",
   "name": "python3"
  },
  "language_info": {
   "codemirror_mode": {
    "name": "ipython",
    "version": 3
   },
   "file_extension": ".py",
   "mimetype": "text/x-python",
   "name": "python",
   "nbconvert_exporter": "python",
   "pygments_lexer": "ipython3",
   "version": "3.6.3"
  }
 },
 "nbformat": 4,
 "nbformat_minor": 2
}
