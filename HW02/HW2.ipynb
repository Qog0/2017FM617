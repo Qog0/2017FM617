{
 "cells": [
  {
   "cell_type": "code",
   "execution_count": 17,
   "metadata": {},
   "outputs": [],
   "source": [
    "#-*- coding: utf-8 -*-　\n",
    "#-*- coding: cp950 -*-\n",
    "\n",
    "import os #載入os模組\n",
    "\n",
    "def main(): #定義主函式\n",
    "    print('Hello world') #印出 Hello world\n",
    "    \n",
    "    print(\"This is Alice's greeting.\")  #Python慣用4個space縮排作為程式層級的編排格式，若用使用tab恐有格式誤差存在\n",
    "    print('This is Bob\\'s greeting.')   #雙引號或單引號不會對欲產出的內容產生任何影響，但需注意引號前後要一致\n",
    "    \n",
    "    foo(5, 10) #呼叫函式\n",
    "    \n",
    "    print('='* 10) #複製10次的等號字串\n",
    "    print=\"Current working directory is\" + os.getcwd() #取得目前的程式運作之檔案目錄，getcwd為os模組下的指令\n",
    "    \n",
    "    counter= 0 #賦值予變數\n",
    "    counter += 1\n",
    "    \n",
    "    food=['apple','oranges','cats'] #將變數 food令其資料為列表型態，列表內的資料可為各種型態包含數據或字串\n",
    "    \n",
    "    for i in food: #loop迴圈，即放在 for 判斷式之中都會重複執行，而且會逐次依序帶入 List 的食物名稱\n",
    "        print('I like to eat' + i)  #逐次依序印出 I like to 食物名稱，以此類推\n",
    "    \n",
    "    print ('Count to ten:')\n",
    "    for i in range(10): #loop迴圈，下 range函式給定值的範圍,range值為0-9 不包括10，在for in的迴圈中需以冒號結尾程式才算完整\n",
    "        print (i) #逐次依序印出 0-9的數字\n",
    "\n",
    "def foo(param1, secondParam):\n",
    "    res=param1 + secondParam \n",
    "    \n",
    "    print ('%S plus %S is equal to %S') #印出param1加secondParam等於res\n",
    "    \n",
    "    if res < 50:  #if elif else 判斷式，在判斷式中需以冒號結尾程式才算完成\n",
    "        print('foo') #滿足判斷式即印出foo\n",
    "    \n",
    "    elif (res >=50) and ((paraml == 42) or (secondParam ==24)): #邏輯運算AND不使用&&的符號，OR亦不使用||，冒號結尾\n",
    "        print('bar') #滿足判斷式即印出bar\n",
    "    \n",
    "    else:\n",
    "        print('moo') #不滿足判斷式即印出moo\n",
    "    \n",
    "    return res #This is a one-line comment. #符號作為單行註解\n",
    "'''A multi-line string, but can also be a multi-line comment.''' #多行註解,使用'''縮排即可，不需遵守原有的4個space之縮排格式\n",
    "    \n",
    "if __name__ == ('main'):#用 __name__ 區分此程式是被 import 當成模組還是被直接執行的，直接執行程式，結果會顯示 __main__\n",
    "    main()\n",
    "\n",
    "    \n",
    "    "
   ]
  }
 ],
 "metadata": {
  "kernelspec": {
   "display_name": "Python 3",
   "language": "python",
   "name": "python3"
  },
  "language_info": {
   "codemirror_mode": {
    "name": "ipython",
    "version": 3
   },
   "file_extension": ".py",
   "mimetype": "text/x-python",
   "name": "python",
   "nbconvert_exporter": "python",
   "pygments_lexer": "ipython3",
   "version": "3.6.3"
  }
 },
 "nbformat": 4,
 "nbformat_minor": 2
}
